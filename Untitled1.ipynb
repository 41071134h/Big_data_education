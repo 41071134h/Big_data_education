{
 "cells": [
  {
   "cell_type": "code",
   "execution_count": 1,
   "id": "5597267e",
   "metadata": {},
   "outputs": [
    {
     "name": "stdout",
     "output_type": "stream",
     "text": [
      "Requirement already satisfied: gradio in /Users/huangszchi/opt/anaconda3/lib/python3.9/site-packages (4.28.3)\n",
      "Requirement already satisfied: pyyaml<7.0,>=5.0 in /Users/huangszchi/opt/anaconda3/lib/python3.9/site-packages (from gradio) (6.0)\n",
      "Requirement already satisfied: tomlkit==0.12.0 in /Users/huangszchi/opt/anaconda3/lib/python3.9/site-packages (from gradio) (0.12.0)\n",
      "Requirement already satisfied: markupsafe~=2.0 in /Users/huangszchi/opt/anaconda3/lib/python3.9/site-packages (from gradio) (2.0.1)\n",
      "Requirement already satisfied: python-multipart>=0.0.9 in /Users/huangszchi/opt/anaconda3/lib/python3.9/site-packages (from gradio) (0.0.9)\n",
      "Requirement already satisfied: httpx>=0.24.1 in /Users/huangszchi/opt/anaconda3/lib/python3.9/site-packages (from gradio) (0.27.0)\n",
      "Requirement already satisfied: pydantic>=2.0 in /Users/huangszchi/opt/anaconda3/lib/python3.9/site-packages (from gradio) (2.7.0)\n",
      "Requirement already satisfied: pydub in /Users/huangszchi/opt/anaconda3/lib/python3.9/site-packages (from gradio) (0.25.1)\n",
      "Requirement already satisfied: orjson~=3.0 in /Users/huangszchi/opt/anaconda3/lib/python3.9/site-packages (from gradio) (3.10.1)\n",
      "Requirement already satisfied: importlib-resources<7.0,>=1.3 in /Users/huangszchi/opt/anaconda3/lib/python3.9/site-packages (from gradio) (6.4.0)\n",
      "Requirement already satisfied: gradio-client==0.16.0 in /Users/huangszchi/opt/anaconda3/lib/python3.9/site-packages (from gradio) (0.16.0)\n",
      "Requirement already satisfied: fastapi in /Users/huangszchi/opt/anaconda3/lib/python3.9/site-packages (from gradio) (0.110.2)\n",
      "Requirement already satisfied: urllib3~=2.0 in /Users/huangszchi/opt/anaconda3/lib/python3.9/site-packages (from gradio) (2.2.1)\n",
      "Requirement already satisfied: matplotlib~=3.0 in /Users/huangszchi/opt/anaconda3/lib/python3.9/site-packages (from gradio) (3.5.1)\n",
      "Requirement already satisfied: packaging in /Users/huangszchi/opt/anaconda3/lib/python3.9/site-packages (from gradio) (24.0)\n",
      "Requirement already satisfied: pandas<3.0,>=1.0 in /Users/huangszchi/opt/anaconda3/lib/python3.9/site-packages (from gradio) (1.4.2)\n",
      "Requirement already satisfied: aiofiles<24.0,>=22.0 in /Users/huangszchi/opt/anaconda3/lib/python3.9/site-packages (from gradio) (23.2.1)\n",
      "Requirement already satisfied: typing-extensions~=4.0 in /Users/huangszchi/opt/anaconda3/lib/python3.9/site-packages (from gradio) (4.11.0)\n",
      "Requirement already satisfied: jinja2<4.0 in /Users/huangszchi/opt/anaconda3/lib/python3.9/site-packages (from gradio) (2.11.3)\n",
      "Requirement already satisfied: semantic-version~=2.0 in /Users/huangszchi/opt/anaconda3/lib/python3.9/site-packages (from gradio) (2.10.0)\n",
      "Requirement already satisfied: huggingface-hub>=0.19.3 in /Users/huangszchi/opt/anaconda3/lib/python3.9/site-packages (from gradio) (0.22.2)\n",
      "Requirement already satisfied: ffmpy in /Users/huangszchi/opt/anaconda3/lib/python3.9/site-packages (from gradio) (0.3.2)\n",
      "Requirement already satisfied: pillow<11.0,>=8.0 in /Users/huangszchi/opt/anaconda3/lib/python3.9/site-packages (from gradio) (9.0.1)\n",
      "Requirement already satisfied: typer<1.0,>=0.12 in /Users/huangszchi/opt/anaconda3/lib/python3.9/site-packages (from gradio) (0.12.3)\n",
      "Requirement already satisfied: uvicorn>=0.14.0 in /Users/huangszchi/opt/anaconda3/lib/python3.9/site-packages (from gradio) (0.29.0)\n",
      "Requirement already satisfied: altair<6.0,>=4.2.0 in /Users/huangszchi/opt/anaconda3/lib/python3.9/site-packages (from gradio) (5.3.0)\n",
      "Requirement already satisfied: numpy~=1.0 in /Users/huangszchi/opt/anaconda3/lib/python3.9/site-packages (from gradio) (1.21.5)\n",
      "Requirement already satisfied: ruff>=0.2.2 in /Users/huangszchi/opt/anaconda3/lib/python3.9/site-packages (from gradio) (0.4.1)\n",
      "Requirement already satisfied: websockets<12.0,>=10.0 in /Users/huangszchi/opt/anaconda3/lib/python3.9/site-packages (from gradio-client==0.16.0->gradio) (11.0.3)\n",
      "Requirement already satisfied: fsspec in /Users/huangszchi/opt/anaconda3/lib/python3.9/site-packages (from gradio-client==0.16.0->gradio) (2024.3.1)\n",
      "Requirement already satisfied: jsonschema>=3.0 in /Users/huangszchi/opt/anaconda3/lib/python3.9/site-packages (from altair<6.0,>=4.2.0->gradio) (4.4.0)\n",
      "Requirement already satisfied: toolz in /Users/huangszchi/opt/anaconda3/lib/python3.9/site-packages (from altair<6.0,>=4.2.0->gradio) (0.11.2)\n",
      "Requirement already satisfied: idna in /Users/huangszchi/opt/anaconda3/lib/python3.9/site-packages (from httpx>=0.24.1->gradio) (3.3)\n",
      "Requirement already satisfied: sniffio in /Users/huangszchi/opt/anaconda3/lib/python3.9/site-packages (from httpx>=0.24.1->gradio) (1.2.0)\n",
      "Requirement already satisfied: anyio in /Users/huangszchi/opt/anaconda3/lib/python3.9/site-packages (from httpx>=0.24.1->gradio) (3.5.0)\n",
      "Requirement already satisfied: certifi in /Users/huangszchi/opt/anaconda3/lib/python3.9/site-packages (from httpx>=0.24.1->gradio) (2021.10.8)\n",
      "Requirement already satisfied: httpcore==1.* in /Users/huangszchi/opt/anaconda3/lib/python3.9/site-packages (from httpx>=0.24.1->gradio) (1.0.5)\n",
      "Requirement already satisfied: h11<0.15,>=0.13 in /Users/huangszchi/opt/anaconda3/lib/python3.9/site-packages (from httpcore==1.*->httpx>=0.24.1->gradio) (0.14.0)\n",
      "Requirement already satisfied: filelock in /Users/huangszchi/opt/anaconda3/lib/python3.9/site-packages (from huggingface-hub>=0.19.3->gradio) (3.12.3)\n",
      "Requirement already satisfied: tqdm>=4.42.1 in /Users/huangszchi/opt/anaconda3/lib/python3.9/site-packages (from huggingface-hub>=0.19.3->gradio) (4.64.0)\n",
      "Requirement already satisfied: requests in /Users/huangszchi/opt/anaconda3/lib/python3.9/site-packages (from huggingface-hub>=0.19.3->gradio) (2.31.0)\n",
      "Requirement already satisfied: zipp>=3.1.0 in /Users/huangszchi/opt/anaconda3/lib/python3.9/site-packages (from importlib-resources<7.0,>=1.3->gradio) (3.7.0)\n",
      "Requirement already satisfied: attrs>=17.4.0 in /Users/huangszchi/opt/anaconda3/lib/python3.9/site-packages (from jsonschema>=3.0->altair<6.0,>=4.2.0->gradio) (21.4.0)\n",
      "Requirement already satisfied: pyrsistent!=0.17.0,!=0.17.1,!=0.17.2,>=0.14.0 in /Users/huangszchi/opt/anaconda3/lib/python3.9/site-packages (from jsonschema>=3.0->altair<6.0,>=4.2.0->gradio) (0.18.0)\n",
      "Requirement already satisfied: pyparsing>=2.2.1 in /Users/huangszchi/opt/anaconda3/lib/python3.9/site-packages (from matplotlib~=3.0->gradio) (3.0.4)\n",
      "Requirement already satisfied: python-dateutil>=2.7 in /Users/huangszchi/opt/anaconda3/lib/python3.9/site-packages (from matplotlib~=3.0->gradio) (2.8.2)\n",
      "Requirement already satisfied: kiwisolver>=1.0.1 in /Users/huangszchi/opt/anaconda3/lib/python3.9/site-packages (from matplotlib~=3.0->gradio) (1.3.2)\n",
      "Requirement already satisfied: cycler>=0.10 in /Users/huangszchi/opt/anaconda3/lib/python3.9/site-packages (from matplotlib~=3.0->gradio) (0.11.0)\n",
      "Requirement already satisfied: fonttools>=4.22.0 in /Users/huangszchi/opt/anaconda3/lib/python3.9/site-packages (from matplotlib~=3.0->gradio) (4.25.0)\n",
      "Requirement already satisfied: pytz>=2020.1 in /Users/huangszchi/opt/anaconda3/lib/python3.9/site-packages (from pandas<3.0,>=1.0->gradio) (2021.3)\n",
      "Requirement already satisfied: pydantic-core==2.18.1 in /Users/huangszchi/opt/anaconda3/lib/python3.9/site-packages (from pydantic>=2.0->gradio) (2.18.1)\n",
      "Requirement already satisfied: annotated-types>=0.4.0 in /Users/huangszchi/opt/anaconda3/lib/python3.9/site-packages (from pydantic>=2.0->gradio) (0.6.0)\n",
      "Requirement already satisfied: six>=1.5 in /Users/huangszchi/opt/anaconda3/lib/python3.9/site-packages (from python-dateutil>=2.7->matplotlib~=3.0->gradio) (1.16.0)\n",
      "Requirement already satisfied: click>=8.0.0 in /Users/huangszchi/opt/anaconda3/lib/python3.9/site-packages (from typer<1.0,>=0.12->gradio) (8.0.4)\n",
      "Requirement already satisfied: shellingham>=1.3.0 in /Users/huangszchi/opt/anaconda3/lib/python3.9/site-packages (from typer<1.0,>=0.12->gradio) (1.5.4)\n",
      "Requirement already satisfied: rich>=10.11.0 in /Users/huangszchi/opt/anaconda3/lib/python3.9/site-packages (from typer<1.0,>=0.12->gradio) (13.7.1)\n",
      "Requirement already satisfied: markdown-it-py>=2.2.0 in /Users/huangszchi/opt/anaconda3/lib/python3.9/site-packages (from rich>=10.11.0->typer<1.0,>=0.12->gradio) (3.0.0)\n",
      "Requirement already satisfied: pygments<3.0.0,>=2.13.0 in /Users/huangszchi/opt/anaconda3/lib/python3.9/site-packages (from rich>=10.11.0->typer<1.0,>=0.12->gradio) (2.17.2)\n",
      "Requirement already satisfied: mdurl~=0.1 in /Users/huangszchi/opt/anaconda3/lib/python3.9/site-packages (from markdown-it-py>=2.2.0->rich>=10.11.0->typer<1.0,>=0.12->gradio) (0.1.2)\n"
     ]
    },
    {
     "name": "stdout",
     "output_type": "stream",
     "text": [
      "Requirement already satisfied: starlette<0.38.0,>=0.37.2 in /Users/huangszchi/opt/anaconda3/lib/python3.9/site-packages (from fastapi->gradio) (0.37.2)\n",
      "Requirement already satisfied: charset-normalizer<4,>=2 in /Users/huangszchi/opt/anaconda3/lib/python3.9/site-packages (from requests->huggingface-hub>=0.19.3->gradio) (2.0.4)\n",
      "Note: you may need to restart the kernel to use updated packages.\n"
     ]
    }
   ],
   "source": [
    "pip install gradio\n"
   ]
  },
  {
   "cell_type": "code",
   "execution_count": 1,
   "id": "173582f1",
   "metadata": {},
   "outputs": [
    {
     "name": "stdout",
     "output_type": "stream",
     "text": [
      "Running on local URL:  http://127.0.0.1:7860\n",
      "\n",
      "To create a public link, set `share=True` in `launch()`.\n"
     ]
    },
    {
     "data": {
      "text/html": [
       "<div><iframe src=\"http://127.0.0.1:7860/\" width=\"100%\" height=\"500\" allow=\"autoplay; camera; microphone; clipboard-read; clipboard-write;\" frameborder=\"0\" allowfullscreen></iframe></div>"
      ],
      "text/plain": [
       "<IPython.core.display.HTML object>"
      ]
     },
     "metadata": {},
     "output_type": "display_data"
    },
    {
     "data": {
      "text/plain": []
     },
     "execution_count": 1,
     "metadata": {},
     "output_type": "execute_result"
    },
    {
     "name": "stdout",
     "output_type": "stream",
     "text": [
      "IMPORTANT: You are using gradio version 4.28.3, however version 4.29.0 is available, please upgrade.\n",
      "--------\n"
     ]
    }
   ],
   "source": [
    "import gradio as gr\n",
    "\n",
    "# 定義一個簡單的函數，這裡的函數可以是您的機器學習模型\n",
    "def greet(name):\n",
    "    return \"Hello \" + name + \"!\"\n",
    "\n",
    "# 使用 gr.Interface 創建介面\n",
    "iface = gr.Interface(\n",
    "    fn=greet,                    # 要包裝的函數\n",
    "    inputs=\"text\",               # 輸入組件\n",
    "    outputs=\"text\"               # 輸出組件\n",
    ")\n",
    "\n",
    "# 啟動介面\n",
    "iface.launch()\n"
   ]
  },
  {
   "cell_type": "code",
   "execution_count": null,
   "id": "3da77c3b",
   "metadata": {},
   "outputs": [],
   "source": []
  }
 ],
 "metadata": {
  "kernelspec": {
   "display_name": "Python 3 (ipykernel)",
   "language": "python",
   "name": "python3"
  },
  "language_info": {
   "codemirror_mode": {
    "name": "ipython",
    "version": 3
   },
   "file_extension": ".py",
   "mimetype": "text/x-python",
   "name": "python",
   "nbconvert_exporter": "python",
   "pygments_lexer": "ipython3",
   "version": "3.9.12"
  }
 },
 "nbformat": 4,
 "nbformat_minor": 5
}
